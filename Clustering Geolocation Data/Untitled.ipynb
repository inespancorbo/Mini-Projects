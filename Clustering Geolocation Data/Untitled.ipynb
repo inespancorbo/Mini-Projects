{
 "cells": [
  {
   "cell_type": "markdown",
   "metadata": {},
   "source": [
    "# Clustering Geolocation Data"
   ]
  },
  {
   "cell_type": "markdown",
   "metadata": {},
   "source": [
    "We have taxi rank locations, and want to define key clusters of these taxis so we can build service stations for all taxis operating in that region\n",
    "\n",
    "\n",
    "Here we use a real life taxi rank location data-set of the city of Johannesburg, South Africa. We try to pinpoint the locations to build service centers to accommodate as many taxis as possible with the help of clustering.\n",
    "\n",
    "Taxi Rank - a place where taxis park while awaiting customers"
   ]
  },
  {
   "cell_type": "code",
   "execution_count": null,
   "metadata": {},
   "outputs": [],
   "source": []
  }
 ],
 "metadata": {
  "kernelspec": {
   "display_name": "Python 3",
   "language": "python",
   "name": "python3"
  },
  "language_info": {
   "codemirror_mode": {
    "name": "ipython",
    "version": 3
   },
   "file_extension": ".py",
   "mimetype": "text/x-python",
   "name": "python",
   "nbconvert_exporter": "python",
   "pygments_lexer": "ipython3",
   "version": "3.7.3"
  }
 },
 "nbformat": 4,
 "nbformat_minor": 2
}
