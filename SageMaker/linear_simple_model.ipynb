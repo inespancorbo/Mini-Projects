{
 "cells": [
  {
   "cell_type": "markdown",
   "metadata": {},
   "source": [
    "- Goal is to compare sklearn linear regression algo vs SageMaker linear model algo (type=\"regressor\")\n",
    "- In particular interested in differences when training and validating"
   ]
  },
  {
   "cell_type": "code",
   "execution_count": 1,
   "metadata": {},
   "outputs": [],
   "source": [
    "# !pip install tensorflow \n",
    "\n",
    "import tensorflow as tf\n",
    "import pandas as pd\n",
    "import numpy as np\n",
    "import seaborn as sns\n",
    "import matplotlib.pyplot as plt"
   ]
  },
  {
   "cell_type": "code",
   "execution_count": 2,
   "metadata": {},
   "outputs": [
    {
     "data": {
      "text/html": [
       "<div>\n",
       "<style scoped>\n",
       "    .dataframe tbody tr th:only-of-type {\n",
       "        vertical-align: middle;\n",
       "    }\n",
       "\n",
       "    .dataframe tbody tr th {\n",
       "        vertical-align: top;\n",
       "    }\n",
       "\n",
       "    .dataframe thead th {\n",
       "        text-align: right;\n",
       "    }\n",
       "</style>\n",
       "<table border=\"1\" class=\"dataframe\">\n",
       "  <thead>\n",
       "    <tr style=\"text-align: right;\">\n",
       "      <th></th>\n",
       "      <th>Unnamed: 0</th>\n",
       "      <th>rank</th>\n",
       "      <th>discipline</th>\n",
       "      <th>yrs.since.phd</th>\n",
       "      <th>yrs.service</th>\n",
       "      <th>sex</th>\n",
       "      <th>salary</th>\n",
       "    </tr>\n",
       "  </thead>\n",
       "  <tbody>\n",
       "    <tr>\n",
       "      <th>0</th>\n",
       "      <td>1</td>\n",
       "      <td>Prof</td>\n",
       "      <td>B</td>\n",
       "      <td>19</td>\n",
       "      <td>18</td>\n",
       "      <td>Male</td>\n",
       "      <td>139750</td>\n",
       "    </tr>\n",
       "    <tr>\n",
       "      <th>1</th>\n",
       "      <td>2</td>\n",
       "      <td>Prof</td>\n",
       "      <td>B</td>\n",
       "      <td>20</td>\n",
       "      <td>16</td>\n",
       "      <td>Male</td>\n",
       "      <td>173200</td>\n",
       "    </tr>\n",
       "    <tr>\n",
       "      <th>2</th>\n",
       "      <td>3</td>\n",
       "      <td>AsstProf</td>\n",
       "      <td>B</td>\n",
       "      <td>4</td>\n",
       "      <td>3</td>\n",
       "      <td>Male</td>\n",
       "      <td>79750</td>\n",
       "    </tr>\n",
       "    <tr>\n",
       "      <th>3</th>\n",
       "      <td>4</td>\n",
       "      <td>Prof</td>\n",
       "      <td>B</td>\n",
       "      <td>45</td>\n",
       "      <td>39</td>\n",
       "      <td>Male</td>\n",
       "      <td>115000</td>\n",
       "    </tr>\n",
       "    <tr>\n",
       "      <th>4</th>\n",
       "      <td>5</td>\n",
       "      <td>Prof</td>\n",
       "      <td>B</td>\n",
       "      <td>40</td>\n",
       "      <td>41</td>\n",
       "      <td>Male</td>\n",
       "      <td>141500</td>\n",
       "    </tr>\n",
       "  </tbody>\n",
       "</table>\n",
       "</div>"
      ],
      "text/plain": [
       "   Unnamed: 0      rank discipline  yrs.since.phd  yrs.service   sex  salary\n",
       "0           1      Prof          B             19           18  Male  139750\n",
       "1           2      Prof          B             20           16  Male  173200\n",
       "2           3  AsstProf          B              4            3  Male   79750\n",
       "3           4      Prof          B             45           39  Male  115000\n",
       "4           5      Prof          B             40           41  Male  141500"
      ]
     },
     "execution_count": 2,
     "metadata": {},
     "output_type": "execute_result"
    }
   ],
   "source": [
    "URL = \"https://vincentarelbundock.github.io/Rdatasets/csv/carData/Salaries.csv\"\n",
    "data = pd.read_csv(URL)\n",
    "data.head()"
   ]
  },
  {
   "cell_type": "code",
   "execution_count": 3,
   "metadata": {},
   "outputs": [
    {
     "data": {
      "text/html": [
       "<div>\n",
       "<style scoped>\n",
       "    .dataframe tbody tr th:only-of-type {\n",
       "        vertical-align: middle;\n",
       "    }\n",
       "\n",
       "    .dataframe tbody tr th {\n",
       "        vertical-align: top;\n",
       "    }\n",
       "\n",
       "    .dataframe thead th {\n",
       "        text-align: right;\n",
       "    }\n",
       "</style>\n",
       "<table border=\"1\" class=\"dataframe\">\n",
       "  <thead>\n",
       "    <tr style=\"text-align: right;\">\n",
       "      <th></th>\n",
       "      <th>rank</th>\n",
       "      <th>yrs.since.phd</th>\n",
       "      <th>yrs.service</th>\n",
       "      <th>sex</th>\n",
       "      <th>salary</th>\n",
       "    </tr>\n",
       "  </thead>\n",
       "  <tbody>\n",
       "    <tr>\n",
       "      <th>0</th>\n",
       "      <td>Prof</td>\n",
       "      <td>19</td>\n",
       "      <td>18</td>\n",
       "      <td>Male</td>\n",
       "      <td>139750</td>\n",
       "    </tr>\n",
       "    <tr>\n",
       "      <th>1</th>\n",
       "      <td>Prof</td>\n",
       "      <td>20</td>\n",
       "      <td>16</td>\n",
       "      <td>Male</td>\n",
       "      <td>173200</td>\n",
       "    </tr>\n",
       "    <tr>\n",
       "      <th>2</th>\n",
       "      <td>AsstProf</td>\n",
       "      <td>4</td>\n",
       "      <td>3</td>\n",
       "      <td>Male</td>\n",
       "      <td>79750</td>\n",
       "    </tr>\n",
       "    <tr>\n",
       "      <th>3</th>\n",
       "      <td>Prof</td>\n",
       "      <td>45</td>\n",
       "      <td>39</td>\n",
       "      <td>Male</td>\n",
       "      <td>115000</td>\n",
       "    </tr>\n",
       "    <tr>\n",
       "      <th>4</th>\n",
       "      <td>Prof</td>\n",
       "      <td>40</td>\n",
       "      <td>41</td>\n",
       "      <td>Male</td>\n",
       "      <td>141500</td>\n",
       "    </tr>\n",
       "  </tbody>\n",
       "</table>\n",
       "</div>"
      ],
      "text/plain": [
       "       rank  yrs.since.phd  yrs.service   sex  salary\n",
       "0      Prof             19           18  Male  139750\n",
       "1      Prof             20           16  Male  173200\n",
       "2  AsstProf              4            3  Male   79750\n",
       "3      Prof             45           39  Male  115000\n",
       "4      Prof             40           41  Male  141500"
      ]
     },
     "execution_count": 3,
     "metadata": {},
     "output_type": "execute_result"
    }
   ],
   "source": [
    "data.drop(['Unnamed: 0', 'discipline'], axis=1, inplace=True)\n",
    "data.head()"
   ]
  },
  {
   "cell_type": "code",
   "execution_count": 4,
   "metadata": {},
   "outputs": [
    {
     "data": {
      "text/plain": [
       "array(['Prof', 'AsstProf', 'AssocProf'], dtype=object)"
      ]
     },
     "execution_count": 4,
     "metadata": {},
     "output_type": "execute_result"
    }
   ],
   "source": [
    "data['rank'].unique()"
   ]
  },
  {
   "cell_type": "code",
   "execution_count": 5,
   "metadata": {},
   "outputs": [
    {
     "data": {
      "text/plain": [
       "rank             object\n",
       "yrs.since.phd     int64\n",
       "yrs.service       int64\n",
       "sex              object\n",
       "salary            int64\n",
       "dtype: object"
      ]
     },
     "execution_count": 5,
     "metadata": {},
     "output_type": "execute_result"
    }
   ],
   "source": [
    "data.dtypes"
   ]
  },
  {
   "cell_type": "code",
   "execution_count": 6,
   "metadata": {},
   "outputs": [
    {
     "data": {
      "text/plain": [
       "count       397.000000\n",
       "mean     113706.458438\n",
       "std       30289.038695\n",
       "min       57800.000000\n",
       "25%       91000.000000\n",
       "50%      107300.000000\n",
       "75%      134185.000000\n",
       "max      231545.000000\n",
       "Name: salary, dtype: float64"
      ]
     },
     "execution_count": 6,
     "metadata": {},
     "output_type": "execute_result"
    }
   ],
   "source": [
    "data['salary'].describe()"
   ]
  },
  {
   "cell_type": "code",
   "execution_count": 7,
   "metadata": {},
   "outputs": [
    {
     "data": {
      "image/png": "[encoded data removed]",
      "text/plain": [
       "<Figure size 540x540 with 12 Axes>"
      ]
     },
     "metadata": {
      "needs_background": "light"
     },
     "output_type": "display_data"
    }
   ],
   "source": [
    "sns.pairplot(data)\n",
    "plt.show()"
   ]
  },
  {
   "cell_type": "code",
   "execution_count": 8,
   "metadata": {},
   "outputs": [
    {
     "data": {
      "text/plain": [
       "<matplotlib.axes._subplots.AxesSubplot at 0x7f8287923cd0>"
      ]
     },
     "execution_count": 8,
     "metadata": {},
     "output_type": "execute_result"
    },
    {
     "data": {
      "image/png": "[encoded data removed]",
      "text/plain": [
       "<Figure size 432x288 with 2 Axes>"
      ]
     },
     "metadata": {
      "needs_background": "light"
     },
     "output_type": "display_data"
    }
   ],
   "source": [
    "sns.heatmap(data.corr(), annot=True)"
   ]
  },
  {
   "cell_type": "code",
   "execution_count": 9,
   "metadata": {},
   "outputs": [
    {
     "data": {
      "text/plain": [
       "Index(['rank', 'yrs.since.phd', 'yrs.service', 'sex', 'salary'], dtype='object')"
      ]
     },
     "execution_count": 9,
     "metadata": {},
     "output_type": "execute_result"
    }
   ],
   "source": [
    "data.columns"
   ]
  },
  {
   "cell_type": "code",
   "execution_count": 10,
   "metadata": {},
   "outputs": [
    {
     "data": {
      "image/png": "[encoded data removed]",
      "text/plain": [
       "<Figure size 432x288 with 1 Axes>"
      ]
     },
     "metadata": {
      "needs_background": "light"
     },
     "output_type": "display_data"
    },
    {
     "data": {
      "image/png": "[encoded data removed]",
      "text/plain": [
       "<Figure size 432x288 with 1 Axes>"
      ]
     },
     "metadata": {
      "needs_background": "light"
     },
     "output_type": "display_data"
    }
   ],
   "source": [
    "sns.boxplot(x='sex', y='salary', data=data)\n",
    "plt.show()\n",
    "\n",
    "sns.boxplot(x='rank', y='salary', data=data)\n",
    "plt.show()"
   ]
  },
  {
   "cell_type": "code",
   "execution_count": 11,
   "metadata": {},
   "outputs": [
    {
     "data": {
      "text/html": [
       "<div>\n",
       "<style scoped>\n",
       "    .dataframe tbody tr th:only-of-type {\n",
       "        vertical-align: middle;\n",
       "    }\n",
       "\n",
       "    .dataframe tbody tr th {\n",
       "        vertical-align: top;\n",
       "    }\n",
       "\n",
       "    .dataframe thead th {\n",
       "        text-align: right;\n",
       "    }\n",
       "</style>\n",
       "<table border=\"1\" class=\"dataframe\">\n",
       "  <thead>\n",
       "    <tr style=\"text-align: right;\">\n",
       "      <th></th>\n",
       "      <th>yrs.service</th>\n",
       "      <th>salary</th>\n",
       "      <th>rank_AsstProf</th>\n",
       "      <th>rank_Prof</th>\n",
       "      <th>sex_Male</th>\n",
       "    </tr>\n",
       "  </thead>\n",
       "  <tbody>\n",
       "    <tr>\n",
       "      <th>0</th>\n",
       "      <td>18</td>\n",
       "      <td>139750</td>\n",
       "      <td>0</td>\n",
       "      <td>1</td>\n",
       "      <td>1</td>\n",
       "    </tr>\n",
       "    <tr>\n",
       "      <th>1</th>\n",
       "      <td>16</td>\n",
       "      <td>173200</td>\n",
       "      <td>0</td>\n",
       "      <td>1</td>\n",
       "      <td>1</td>\n",
       "    </tr>\n",
       "    <tr>\n",
       "      <th>2</th>\n",
       "      <td>3</td>\n",
       "      <td>79750</td>\n",
       "      <td>1</td>\n",
       "      <td>0</td>\n",
       "      <td>1</td>\n",
       "    </tr>\n",
       "    <tr>\n",
       "      <th>3</th>\n",
       "      <td>39</td>\n",
       "      <td>115000</td>\n",
       "      <td>0</td>\n",
       "      <td>1</td>\n",
       "      <td>1</td>\n",
       "    </tr>\n",
       "    <tr>\n",
       "      <th>4</th>\n",
       "      <td>41</td>\n",
       "      <td>141500</td>\n",
       "      <td>0</td>\n",
       "      <td>1</td>\n",
       "      <td>1</td>\n",
       "    </tr>\n",
       "  </tbody>\n",
       "</table>\n",
       "</div>"
      ],
      "text/plain": [
       "   yrs.service  salary  rank_AsstProf  rank_Prof  sex_Male\n",
       "0           18  139750              0          1         1\n",
       "1           16  173200              0          1         1\n",
       "2            3   79750              1          0         1\n",
       "3           39  115000              0          1         1\n",
       "4           41  141500              0          1         1"
      ]
     },
     "execution_count": 11,
     "metadata": {},
     "output_type": "execute_result"
    }
   ],
   "source": [
    "data.drop('yrs.since.phd', axis=1, inplace=True)\n",
    "data = pd.get_dummies(data, drop_first=True)\n",
    "data.head()"
   ]
  },
  {
   "cell_type": "code",
   "execution_count": 12,
   "metadata": {},
   "outputs": [
    {
     "data": {
      "text/html": [
       "<div>\n",
       "<style scoped>\n",
       "    .dataframe tbody tr th:only-of-type {\n",
       "        vertical-align: middle;\n",
       "    }\n",
       "\n",
       "    .dataframe tbody tr th {\n",
       "        vertical-align: top;\n",
       "    }\n",
       "\n",
       "    .dataframe thead th {\n",
       "        text-align: right;\n",
       "    }\n",
       "</style>\n",
       "<table border=\"1\" class=\"dataframe\">\n",
       "  <thead>\n",
       "    <tr style=\"text-align: right;\">\n",
       "      <th></th>\n",
       "      <th>yrs.service</th>\n",
       "      <th>salary</th>\n",
       "      <th>rank_AsstProf</th>\n",
       "      <th>rank_Prof</th>\n",
       "      <th>sex_Male</th>\n",
       "    </tr>\n",
       "  </thead>\n",
       "  <tbody>\n",
       "    <tr>\n",
       "      <th>0</th>\n",
       "      <td>18</td>\n",
       "      <td>139750</td>\n",
       "      <td>0</td>\n",
       "      <td>1</td>\n",
       "      <td>1</td>\n",
       "    </tr>\n",
       "    <tr>\n",
       "      <th>1</th>\n",
       "      <td>16</td>\n",
       "      <td>173200</td>\n",
       "      <td>0</td>\n",
       "      <td>1</td>\n",
       "      <td>1</td>\n",
       "    </tr>\n",
       "    <tr>\n",
       "      <th>2</th>\n",
       "      <td>3</td>\n",
       "      <td>79750</td>\n",
       "      <td>1</td>\n",
       "      <td>0</td>\n",
       "      <td>1</td>\n",
       "    </tr>\n",
       "    <tr>\n",
       "      <th>3</th>\n",
       "      <td>39</td>\n",
       "      <td>115000</td>\n",
       "      <td>0</td>\n",
       "      <td>1</td>\n",
       "      <td>1</td>\n",
       "    </tr>\n",
       "    <tr>\n",
       "      <th>4</th>\n",
       "      <td>41</td>\n",
       "      <td>141500</td>\n",
       "      <td>0</td>\n",
       "      <td>1</td>\n",
       "      <td>1</td>\n",
       "    </tr>\n",
       "  </tbody>\n",
       "</table>\n",
       "</div>"
      ],
      "text/plain": [
       "   yrs.service  salary  rank_AsstProf  rank_Prof  sex_Male\n",
       "0           18  139750              0          1         1\n",
       "1           16  173200              0          1         1\n",
       "2            3   79750              1          0         1\n",
       "3           39  115000              0          1         1\n",
       "4           41  141500              0          1         1"
      ]
     },
     "execution_count": 12,
     "metadata": {},
     "output_type": "execute_result"
    }
   ],
   "source": [
    "data.head()"
   ]
  },
  {
   "cell_type": "code",
   "execution_count": 13,
   "metadata": {},
   "outputs": [],
   "source": [
    "X = data.drop(['salary'], axis=1).to_numpy('float32')\n",
    "y = data[['salary']].to_numpy('float32').flatten()"
   ]
  },
  {
   "cell_type": "code",
   "execution_count": 14,
   "metadata": {},
   "outputs": [
    {
     "name": "stdout",
     "output_type": "stream",
     "text": [
      "(397, 4) (397,)\n"
     ]
    }
   ],
   "source": [
    "print(X.shape, y.shape)"
   ]
  },
  {
   "cell_type": "code",
   "execution_count": 15,
   "metadata": {},
   "outputs": [],
   "source": [
    "from sklearn.model_selection import train_test_split\n",
    "\n",
    "X_train, X_test, y_train, y_test = train_test_split(X, y, test_size=0.2)"
   ]
  },
  {
   "cell_type": "markdown",
   "metadata": {},
   "source": [
    "Let us train a linear regression model in sklearn first. "
   ]
  },
  {
   "cell_type": "code",
   "execution_count": 16,
   "metadata": {},
   "outputs": [
    {
     "data": {
      "text/plain": [
       "LinearRegression(copy_X=True, fit_intercept=True, n_jobs=None, normalize=False)"
      ]
     },
     "execution_count": 16,
     "metadata": {},
     "output_type": "execute_result"
    }
   ],
   "source": [
    "from sklearn.linear_model import LinearRegression\n",
    "\n",
    "sklearn_model = LinearRegression(fit_intercept=True)\n",
    "sklearn_model.fit(X_train, y_train)"
   ]
  },
  {
   "cell_type": "code",
   "execution_count": 17,
   "metadata": {},
   "outputs": [
    {
     "data": {
      "text/plain": [
       "0.2978138284258993"
      ]
     },
     "execution_count": 17,
     "metadata": {},
     "output_type": "execute_result"
    }
   ],
   "source": [
    "sklearn_r2 = sklearn_model.score(X_test, y_test)\n",
    "sklearn_r2"
   ]
  },
  {
   "cell_type": "code",
   "execution_count": 18,
   "metadata": {},
   "outputs": [
    {
     "data": {
      "text/plain": [
       "23331.94"
      ]
     },
     "execution_count": 18,
     "metadata": {},
     "output_type": "execute_result"
    }
   ],
   "source": [
    "from sklearn.metrics import mean_squared_error\n",
    "\n",
    "sklearn_rmse = np.sqrt(mean_squared_error(y_test, sklearn_model.predict(X_test)))\n",
    "sklearn_rmse"
   ]
  },
  {
   "cell_type": "code",
   "execution_count": 19,
   "metadata": {},
   "outputs": [
    {
     "name": "stdout",
     "output_type": "stream",
     "text": [
      "Linear Model Coefficients (intercept):  92436.68\n",
      "Linear Model Coefficients (intercept):  [  -241.61987 -14206.943    37609.316     3462.835  ]\n"
     ]
    }
   ],
   "source": [
    "print('Linear Model Coefficients (intercept): ', sklearn_model.intercept_)\n",
    "print('Linear Model Coefficients (intercept): ', sklearn_model.coef_)\n"
   ]
  },
  {
   "cell_type": "code",
   "execution_count": 20,
   "metadata": {},
   "outputs": [
    {
     "data": {
      "text/plain": [
       "<matplotlib.axes._subplots.AxesSubplot at 0x7f828498e650>"
      ]
     },
     "execution_count": 20,
     "metadata": {},
     "output_type": "execute_result"
    },
    {
     "data": {
      "image/png": "[encoded data removed]",
      "text/plain": [
       "<Figure size 432x288 with 1 Axes>"
      ]
     },
     "metadata": {
      "needs_background": "light"
     },
     "output_type": "display_data"
    }
   ],
   "source": [
    "# let us look at the histogram of the errors\n",
    "errors = y_test - sklearn_model.predict(X_test)\n",
    "sns.distplot(errors)"
   ]
  },
  {
   "cell_type": "markdown",
   "metadata": {},
   "source": [
    "Now, let us use SageMaker."
   ]
  },
  {
   "cell_type": "code",
   "execution_count": 21,
   "metadata": {},
   "outputs": [
    {
     "name": "stdout",
     "output_type": "stream",
     "text": [
      "arn:aws:iam::569429297813:role/service-role/AmazonSageMaker-ExecutionRole-20200812T185815\n"
     ]
    }
   ],
   "source": [
    "import boto3\n",
    "import sagemaker\n",
    "\n",
    "\n",
    "sagemaker_session = sagemaker.Session()\n",
    "\n",
    "bucket = 'sagemaker-studio-ehsxkd5xxqm'\n",
    "prefix = 'linear_learner'\n",
    "\n",
    "role = sagemaker.get_execution_role()\n",
    "print(role)"
   ]
  },
  {
   "cell_type": "code",
   "execution_count": 22,
   "metadata": {},
   "outputs": [
    {
     "data": {
      "text/plain": [
       "0"
      ]
     },
     "execution_count": 22,
     "metadata": {},
     "output_type": "execute_result"
    }
   ],
   "source": [
    "import io\n",
    "import numpy as np\n",
    "import sagemaker.amazon.common as smac # sagemaker common library\n",
    "\n",
    "# Converts data in numpy array format to RecordIO format\n",
    "# This is required for Linear Learner\n",
    "buf = io.BytesIO()\n",
    "smac.write_numpy_to_dense_tensor(buf, X_train, y_train.flatten())\n",
    "buf.seek(0)"
   ]
  },
  {
   "cell_type": "code",
   "execution_count": 23,
   "metadata": {},
   "outputs": [],
   "source": [
    "import os\n",
    "\n",
    "# upload RecordIO data to S3\n",
    "\n",
    "# name of file\n",
    "key = 'linear-train-data'\n",
    "\n",
    "# uploading\n",
    "boto3.resource('s3').Bucket(bucket).Object(os.path.join(prefix, 'train', key)).upload_fileobj(buf)\n"
   ]
  },
  {
   "cell_type": "code",
   "execution_count": 24,
   "metadata": {},
   "outputs": [
    {
     "name": "stdout",
     "output_type": "stream",
     "text": [
      "The data is stored at: s3://sagemaker-studio-ehsxkd5xxqm/linear_learner/train/linear-train-data\n"
     ]
    }
   ],
   "source": [
    "s3_train_data = f's3://{bucket}/{prefix}/train/{key}'\n",
    "print(f'The data is stored at: {s3_train_data}')"
   ]
  },
  {
   "cell_type": "code",
   "execution_count": 25,
   "metadata": {},
   "outputs": [
    {
     "name": "stdout",
     "output_type": "stream",
     "text": [
      "Training output will be stored at: s3://sagemaker-studio-ehsxkd5xxqm/linear_learner/output\n"
     ]
    }
   ],
   "source": [
    "output_location = f's3://{bucket}/{prefix}/output'\n",
    "print(f'Training output will be stored at: {output_location}')"
   ]
  },
  {
   "cell_type": "code",
   "execution_count": 26,
   "metadata": {},
   "outputs": [
    {
     "name": "stderr",
     "output_type": "stream",
     "text": [
      "'get_image_uri' method will be deprecated in favor of 'ImageURIProvider' class in SageMaker Python SDK v2.\n"
     ]
    }
   ],
   "source": [
    "# Let's obtain a reference to the linearLearner container image\n",
    "# The below is used to get the training container of sagemaker built-in algorithms\n",
    "# all we have to do is specify the name of the algorithm, that we want to use\n",
    "\n",
    "# Note that all regression models are names estimators\n",
    "# You don't have to specify/hardcode the region, get_image_uri will get the current region name\n",
    "\n",
    "from sagemaker.amazon.amazon_estimator import get_image_uri\n",
    "\n",
    "container = get_image_uri(boto3.Session().region_name, 'linear-learner')"
   ]
  },
  {
   "cell_type": "code",
   "execution_count": 34,
   "metadata": {},
   "outputs": [
    {
     "name": "stderr",
     "output_type": "stream",
     "text": [
      "WARNING:root:Parameter image_name will be renamed to image_uri in SageMaker Python SDK v2.\n"
     ]
    }
   ],
   "source": [
    "# We pass to the container the type of instance we want for training\n",
    "# We can also provide output path and sagemaker session into the Estimator\n",
    "# Also can specify how many instances we would like to use for training\n",
    "\n",
    "linear = sagemaker.estimator.Estimator(container, \n",
    "                                      role,\n",
    "                                      train_instance_count=1,\n",
    "                                      train_instance_type='ml.c4.xlarge',\n",
    "                                      output_path = output_location,\n",
    "                                      sagemaker_session = sagemaker_session,\n",
    "                                      train_use_spot_instances=True, \n",
    "                                      train_max_run=1000, \n",
    "                                       train_max_wait=1000,\n",
    "                                      )\n",
    "\n",
    "# For hyperparameter tuning\n",
    "linear.set_hyperparameters(feature_dim=X.shape[1],\n",
    "                          predictor_type='regressor',\n",
    "                          mini_batch_size=32,\n",
    "                          epochs=3,\n",
    "                          num_models=3,\n",
    "                          loss='absolute_loss')"
   ]
  },
  {
   "cell_type": "code",
   "execution_count": 35,
   "metadata": {},
   "outputs": [
    {
     "name": "stderr",
     "output_type": "stream",
     "text": [
      "WARNING:sagemaker:'s3_input' class will be renamed to 'TrainingInput' in SageMaker Python SDK v2.\n"
     ]
    },
    {
     "name": "stdout",
     "output_type": "stream",
     "text": [
      "2020-08-14 02:21:05 Starting - Starting the training job...\n",
      "2020-08-14 02:21:07 Starting - Launching requested ML instances......\n",
      "2020-08-14 02:22:21 Starting - Preparing the instances for training.........\n",
      "2020-08-14 02:24:02 Downloading - Downloading input data\n",
      "2020-08-14 02:24:02 Training - Downloading the training image...\n",
      "2020-08-14 02:24:35 Uploading - Uploading generated training model\n",
      "2020-08-14 02:24:35 Completed - Training job completed\n",
      "\u001b[34mDocker entrypoint called with argument(s): train\u001b[0m\n",
      "\u001b[34mRunning default environment configuration script\u001b[0m\n",
      "\u001b[34m[08/14/2020 02:24:26 INFO 140493828642624] Reading default configuration from /opt/amazon/lib/python2.7/site-packages/algorithm/resources/default-input.json: {u'loss_insensitivity': u'0.01', u'epochs': u'15', u'feature_dim': u'auto', u'init_bias': u'0.0', u'lr_scheduler_factor': u'auto', u'num_calibration_samples': u'10000000', u'accuracy_top_k': u'3', u'_num_kv_servers': u'auto', u'use_bias': u'true', u'num_point_for_scaler': u'10000', u'_log_level': u'info', u'quantile': u'0.5', u'bias_lr_mult': u'auto', u'lr_scheduler_step': u'auto', u'init_method': u'uniform', u'init_sigma': u'0.01', u'lr_scheduler_minimum_lr': u'auto', u'target_recall': u'0.8', u'num_models': u'auto', u'early_stopping_patience': u'3', u'momentum': u'auto', u'unbias_label': u'auto', u'wd': u'auto', u'optimizer': u'auto', u'_tuning_objective_metric': u'', u'early_stopping_tolerance': u'0.001', u'learning_rate': u'auto', u'_kvstore': u'auto', u'normalize_data': u'true', u'binary_classifier_model_selection_criteria': u'accuracy', u'use_lr_scheduler': u'true', u'target_precision': u'0.8', u'unbias_data': u'auto', u'init_scale': u'0.07', u'bias_wd_mult': u'auto', u'f_beta': u'1.0', u'mini_batch_size': u'1000', u'huber_delta': u'1.0', u'num_classes': u'1', u'beta_1': u'auto', u'loss': u'auto', u'beta_2': u'auto', u'_enable_profiler': u'false', u'normalize_label': u'auto', u'_num_gpus': u'auto', u'balance_multiclass_weights': u'false', u'positive_example_weight_mult': u'1.0', u'l1': u'auto', u'margin': u'1.0'}\u001b[0m\n",
      "\u001b[34m[08/14/2020 02:24:26 INFO 140493828642624] Merging with provided configuration from /opt/ml/input/config/hyperparameters.json: {u'loss': u'absolute_loss', u'mini_batch_size': u'32', u'predictor_type': u'regressor', u'epochs': u'3', u'feature_dim': u'4', u'num_models': u'3'}\u001b[0m\n",
      "\u001b[34m[08/14/2020 02:24:26 INFO 140493828642624] Final configuration: {u'loss_insensitivity': u'0.01', u'epochs': u'3', u'feature_dim': u'4', u'init_bias': u'0.0', u'lr_scheduler_factor': u'auto', u'num_calibration_samples': u'10000000', u'accuracy_top_k': u'3', u'_num_kv_servers': u'auto', u'use_bias': u'true', u'num_point_for_scaler': u'10000', u'_log_level': u'info', u'quantile': u'0.5', u'bias_lr_mult': u'auto', u'lr_scheduler_step': u'auto', u'init_method': u'uniform', u'init_sigma': u'0.01', u'lr_scheduler_minimum_lr': u'auto', u'target_recall': u'0.8', u'num_models': u'3', u'early_stopping_patience': u'3', u'momentum': u'auto', u'unbias_label': u'auto', u'wd': u'auto', u'optimizer': u'auto', u'_tuning_objective_metric': u'', u'early_stopping_tolerance': u'0.001', u'learning_rate': u'auto', u'_kvstore': u'auto', u'normalize_data': u'true', u'binary_classifier_model_selection_criteria': u'accuracy', u'use_lr_scheduler': u'true', u'target_precision': u'0.8', u'unbias_data': u'auto', u'init_scale': u'0.07', u'bias_wd_mult': u'auto', u'f_beta': u'1.0', u'mini_batch_size': u'32', u'huber_delta': u'1.0', u'num_classes': u'1', u'predictor_type': u'regressor', u'beta_1': u'auto', u'loss': u'absolute_loss', u'beta_2': u'auto', u'_enable_profiler': u'false', u'normalize_label': u'auto', u'_num_gpus': u'auto', u'balance_multiclass_weights': u'false', u'positive_example_weight_mult': u'1.0', u'l1': u'auto', u'margin': u'1.0'}\u001b[0m\n",
      "\u001b[34m[08/14/2020 02:24:26 WARNING 140493828642624] Loggers have already been setup.\u001b[0m\n",
      "\u001b[34mProcess 1 is a worker.\u001b[0m\n",
      "\u001b[34m[08/14/2020 02:24:26 INFO 140493828642624] Using default worker.\u001b[0m\n",
      "\u001b[34m[08/14/2020 02:24:27 INFO 140493828642624] Checkpoint loading and saving are disabled.\u001b[0m\n",
      "\u001b[34m[2020-08-14 02:24:27.085] [tensorio] [info] epoch_stats={\"data_pipeline\": \"/opt/ml/input/data/train\", \"epoch\": 0, \"duration\": 14, \"num_examples\": 1, \"num_bytes\": 1920}\u001b[0m\n",
      "\u001b[34m[08/14/2020 02:24:27 INFO 140493828642624] Create Store: local\u001b[0m\n",
      "\u001b[34m[2020-08-14 02:24:27.134] [tensorio] [info] epoch_stats={\"data_pipeline\": \"/opt/ml/input/data/train\", \"epoch\": 1, \"duration\": 48, \"num_examples\": 10, \"num_bytes\": 19020}\u001b[0m\n",
      "\u001b[34m[08/14/2020 02:24:27 INFO 140493828642624] Scaler algorithm parameters\n",
      " <algorithm.scaler.ScalerAlgorithmStable object at 0x7fc6e5a305d0>\u001b[0m\n",
      "\u001b[34m[08/14/2020 02:24:27 INFO 140493828642624] Scaling model computed with parameters:\n",
      " {'stdev_weight': \u001b[0m\n",
      "\u001b[34m[12.871591    0.37575474  0.47140452  0.3009237 ]\u001b[0m\n",
      "\u001b[34m<NDArray 4 @cpu(0)>, 'stdev_label': \u001b[0m\n",
      "\u001b[34m[30728.504]\u001b[0m\n",
      "\u001b[34m<NDArray 1 @cpu(0)>, 'mean_label': \u001b[0m\n",
      "\u001b[34m[113841.32]\u001b[0m\n",
      "\u001b[34m<NDArray 1 @cpu(0)>, 'mean_weight': \u001b[0m\n",
      "\u001b[34m[17.78125    0.1701389  0.6666667  0.8993056]\u001b[0m\n",
      "\u001b[34m<NDArray 4 @cpu(0)>}\u001b[0m\n",
      "\u001b[34m[08/14/2020 02:24:27 INFO 140493828642624] nvidia-smi took: 0.025218963623 secs to identify 0 gpus\u001b[0m\n",
      "\u001b[34m[08/14/2020 02:24:27 INFO 140493828642624] Number of GPUs being used: 0\u001b[0m\n",
      "\u001b[34m#metrics {\"Metrics\": {\"Max Batches Seen Between Resets\": {\"count\": 1, \"max\": 10, \"sum\": 10.0, \"min\": 10}, \"Number of Batches Since Last Reset\": {\"count\": 1, \"max\": 0, \"sum\": 0.0, \"min\": 0}, \"Number of Records Since Last Reset\": {\"count\": 1, \"max\": 0, \"sum\": 0.0, \"min\": 0}, \"Total Batches Seen\": {\"count\": 1, \"max\": 11, \"sum\": 11.0, \"min\": 11}, \"Total Records Seen\": {\"count\": 1, \"max\": 349, \"sum\": 349.0, \"min\": 349}, \"Max Records Seen Between Resets\": {\"count\": 1, \"max\": 317, \"sum\": 317.0, \"min\": 317}, \"Reset Count\": {\"count\": 1, \"max\": 2, \"sum\": 2.0, \"min\": 2}}, \"EndTime\": 1597371867.181094, \"Dimensions\": {\"Host\": \"algo-1\", \"Meta\": \"init_train_data_iter\", \"Operation\": \"training\", \"Algorithm\": \"Linear Learner\"}, \"StartTime\": 1597371867.181055}\n",
      "\u001b[0m\n",
      "\u001b[34m[2020-08-14 02:24:27.228] [tensorio] [info] epoch_stats={\"data_pipeline\": \"/opt/ml/input/data/train\", \"epoch\": 4, \"duration\": 47, \"num_examples\": 10, \"num_bytes\": 19020}\u001b[0m\n",
      "\u001b[34m#metrics {\"Metrics\": {\"train_absolute_loss_objective\": {\"count\": 1, \"max\": 0.7630387412177192, \"sum\": 0.7630387412177192, \"min\": 0.7630387412177192}}, \"EndTime\": 1597371867.228966, \"Dimensions\": {\"model\": 0, \"Host\": \"algo-1\", \"Operation\": \"training\", \"Algorithm\": \"Linear Learner\", \"epoch\": 0}, \"StartTime\": 1597371867.22891}\n",
      "\u001b[0m\n",
      "\u001b[34m#metrics {\"Metrics\": {\"train_absolute_loss_objective\": {\"count\": 1, \"max\": 0.7907470597161187, \"sum\": 0.7907470597161187, \"min\": 0.7907470597161187}}, \"EndTime\": 1597371867.229049, \"Dimensions\": {\"model\": 1, \"Host\": \"algo-1\", \"Operation\": \"training\", \"Algorithm\": \"Linear Learner\", \"epoch\": 0}, \"StartTime\": 1597371867.229036}\n",
      "\u001b[0m\n",
      "\u001b[34m#metrics {\"Metrics\": {\"train_absolute_loss_objective\": {\"count\": 1, \"max\": 0.7756823301315308, \"sum\": 0.7756823301315308, \"min\": 0.7756823301315308}}, \"EndTime\": 1597371867.229093, \"Dimensions\": {\"model\": 2, \"Host\": \"algo-1\", \"Operation\": \"training\", \"Algorithm\": \"Linear Learner\", \"epoch\": 0}, \"StartTime\": 1597371867.22908}\n",
      "\u001b[0m\n",
      "\u001b[34m[08/14/2020 02:24:27 INFO 140493828642624] #quality_metric: host=algo-1, epoch=0, train absolute_loss_objective <loss>=0.763038741218\u001b[0m\n",
      "\u001b[34m[08/14/2020 02:24:27 INFO 140493828642624] #early_stopping_criteria_metric: host=algo-1, epoch=0, criteria=absolute_loss_objective, value=0.763038741218\u001b[0m\n",
      "\u001b[34m[08/14/2020 02:24:27 INFO 140493828642624] Epoch 0: Loss improved. Updating best model\u001b[0m\n",
      "\u001b[34m[08/14/2020 02:24:27 INFO 140493828642624] Saving model for epoch: 0\u001b[0m\n",
      "\u001b[34m[08/14/2020 02:24:27 INFO 140493828642624] Saved checkpoint to \"/tmp/tmpKRb5Z1/mx-mod-0000.params\"\u001b[0m\n",
      "\u001b[34m[08/14/2020 02:24:27 INFO 140493828642624] #progress_metric: host=algo-1, completed 33 % of epochs\u001b[0m\n",
      "\u001b[34m#metrics {\"Metrics\": {\"Max Batches Seen Between Resets\": {\"count\": 1, \"max\": 10, \"sum\": 10.0, \"min\": 10}, \"Number of Batches Since Last Reset\": {\"count\": 1, \"max\": 10, \"sum\": 10.0, \"min\": 10}, \"Number of Records Since Last Reset\": {\"count\": 1, \"max\": 317, \"sum\": 317.0, \"min\": 317}, \"Total Batches Seen\": {\"count\": 1, \"max\": 21, \"sum\": 21.0, \"min\": 21}, \"Total Records Seen\": {\"count\": 1, \"max\": 666, \"sum\": 666.0, \"min\": 666}, \"Max Records Seen Between Resets\": {\"count\": 1, \"max\": 317, \"sum\": 317.0, \"min\": 317}, \"Reset Count\": {\"count\": 1, \"max\": 3, \"sum\": 3.0, \"min\": 3}}, \"EndTime\": 1597371867.241386, \"Dimensions\": {\"Host\": \"algo-1\", \"Meta\": \"training_data_iter\", \"Operation\": \"training\", \"Algorithm\": \"Linear Learner\", \"epoch\": 0}, \"StartTime\": 1597371867.181325}\n",
      "\u001b[0m\n",
      "\u001b[34m[08/14/2020 02:24:27 INFO 140493828642624] #throughput_metric: host=algo-1, train throughput=5269.18436675 records/second\u001b[0m\n",
      "\u001b[34m[2020-08-14 02:24:27.265] [tensorio] [info] epoch_stats={\"data_pipeline\": \"/opt/ml/input/data/train\", \"epoch\": 6, \"duration\": 23, \"num_examples\": 10, \"num_bytes\": 19020}\u001b[0m\n",
      "\u001b[34m#metrics {\"Metrics\": {\"train_absolute_loss_objective\": {\"count\": 1, \"max\": 0.7090913719601102, \"sum\": 0.7090913719601102, \"min\": 0.7090913719601102}}, \"EndTime\": 1597371867.265858, \"Dimensions\": {\"model\": 0, \"Host\": \"algo-1\", \"Operation\": \"training\", \"Algorithm\": \"Linear Learner\", \"epoch\": 1}, \"StartTime\": 1597371867.265813}\n",
      "\u001b[0m\n",
      "\u001b[34m#metrics {\"Metrics\": {\"train_absolute_loss_objective\": {\"count\": 1, \"max\": 0.7362330158551534, \"sum\": 0.7362330158551534, \"min\": 0.7362330158551534}}, \"EndTime\": 1597371867.265941, \"Dimensions\": {\"model\": 1, \"Host\": \"algo-1\", \"Operation\": \"training\", \"Algorithm\": \"Linear Learner\", \"epoch\": 1}, \"StartTime\": 1597371867.265927}\n",
      "\u001b[0m\n",
      "\u001b[34m#metrics {\"Metrics\": {\"train_absolute_loss_objective\": {\"count\": 1, \"max\": 0.7177441848648919, \"sum\": 0.7177441848648919, \"min\": 0.7177441848648919}}, \"EndTime\": 1597371867.265991, \"Dimensions\": {\"model\": 2, \"Host\": \"algo-1\", \"Operation\": \"training\", \"Algorithm\": \"Linear Learner\", \"epoch\": 1}, \"StartTime\": 1597371867.26598}\n",
      "\u001b[0m\n",
      "\u001b[34m[08/14/2020 02:24:27 INFO 140493828642624] #quality_metric: host=algo-1, epoch=1, train absolute_loss_objective <loss>=0.70909137196\u001b[0m\n",
      "\u001b[34m[08/14/2020 02:24:27 INFO 140493828642624] #early_stopping_criteria_metric: host=algo-1, epoch=1, criteria=absolute_loss_objective, value=0.70909137196\u001b[0m\n",
      "\u001b[34m[08/14/2020 02:24:27 INFO 140493828642624] Epoch 1: Loss improved. Updating best model\u001b[0m\n",
      "\u001b[34m[08/14/2020 02:24:27 INFO 140493828642624] Saving model for epoch: 1\u001b[0m\n",
      "\u001b[34m[08/14/2020 02:24:27 INFO 140493828642624] Saved checkpoint to \"/tmp/tmpNxQM4G/mx-mod-0000.params\"\u001b[0m\n",
      "\u001b[34m[08/14/2020 02:24:27 INFO 140493828642624] #progress_metric: host=algo-1, completed 66 % of epochs\u001b[0m\n",
      "\u001b[34m#metrics {\"Metrics\": {\"Max Batches Seen Between Resets\": {\"count\": 1, \"max\": 10, \"sum\": 10.0, \"min\": 10}, \"Number of Batches Since Last Reset\": {\"count\": 1, \"max\": 10, \"sum\": 10.0, \"min\": 10}, \"Number of Records Since Last Reset\": {\"count\": 1, \"max\": 317, \"sum\": 317.0, \"min\": 317}, \"Total Batches Seen\": {\"count\": 1, \"max\": 31, \"sum\": 31.0, \"min\": 31}, \"Total Records Seen\": {\"count\": 1, \"max\": 983, \"sum\": 983.0, \"min\": 983}, \"Max Records Seen Between Resets\": {\"count\": 1, \"max\": 317, \"sum\": 317.0, \"min\": 317}, \"Reset Count\": {\"count\": 1, \"max\": 4, \"sum\": 4.0, \"min\": 4}}, \"EndTime\": 1597371867.27248, \"Dimensions\": {\"Host\": \"algo-1\", \"Meta\": \"training_data_iter\", \"Operation\": \"training\", \"Algorithm\": \"Linear Learner\", \"epoch\": 1}, \"StartTime\": 1597371867.241647}\n",
      "\u001b[0m\n",
      "\u001b[34m[08/14/2020 02:24:27 INFO 140493828642624] #throughput_metric: host=algo-1, train throughput=10239.384895 records/second\u001b[0m\n",
      "\u001b[34m[2020-08-14 02:24:27.295] [tensorio] [info] epoch_stats={\"data_pipeline\": \"/opt/ml/input/data/train\", \"epoch\": 8, \"duration\": 22, \"num_examples\": 10, \"num_bytes\": 19020}\u001b[0m\n",
      "\u001b[34m#metrics {\"Metrics\": {\"train_absolute_loss_objective\": {\"count\": 1, \"max\": 0.6636124915546842, \"sum\": 0.6636124915546842, \"min\": 0.6636124915546842}}, \"EndTime\": 1597371867.295434, \"Dimensions\": {\"model\": 0, \"Host\": \"algo-1\", \"Operation\": \"training\", \"Algorithm\": \"Linear Learner\", \"epoch\": 2}, \"StartTime\": 1597371867.295384}\n",
      "\u001b[0m\n",
      "\u001b[34m#metrics {\"Metrics\": {\"train_absolute_loss_objective\": {\"count\": 1, \"max\": 0.68769195344713, \"sum\": 0.68769195344713, \"min\": 0.68769195344713}}, \"EndTime\": 1597371867.295533, \"Dimensions\": {\"model\": 1, \"Host\": \"algo-1\", \"Operation\": \"training\", \"Algorithm\": \"Linear Learner\", \"epoch\": 2}, \"StartTime\": 1597371867.295516}\n",
      "\u001b[0m\n",
      "\u001b[34m#metrics {\"Metrics\": {\"train_absolute_loss_objective\": {\"count\": 1, \"max\": 0.670635289616055, \"sum\": 0.670635289616055, \"min\": 0.670635289616055}}, \"EndTime\": 1597371867.295603, \"Dimensions\": {\"model\": 2, \"Host\": \"algo-1\", \"Operation\": \"training\", \"Algorithm\": \"Linear Learner\", \"epoch\": 2}, \"StartTime\": 1597371867.295584}\n",
      "\u001b[0m\n",
      "\u001b[34m[08/14/2020 02:24:27 INFO 140493828642624] #quality_metric: host=algo-1, epoch=2, train absolute_loss_objective <loss>=0.663612491555\u001b[0m\n",
      "\u001b[34m[08/14/2020 02:24:27 INFO 140493828642624] #early_stopping_criteria_metric: host=algo-1, epoch=2, criteria=absolute_loss_objective, value=0.663612491555\u001b[0m\n",
      "\u001b[34m[08/14/2020 02:24:27 INFO 140493828642624] Epoch 2: Loss improved. Updating best model\u001b[0m\n",
      "\u001b[34m[08/14/2020 02:24:27 INFO 140493828642624] Saving model for epoch: 2\u001b[0m\n",
      "\u001b[34m[08/14/2020 02:24:27 INFO 140493828642624] Saved checkpoint to \"/tmp/tmpQLkfNF/mx-mod-0000.params\"\u001b[0m\n",
      "\u001b[34m[08/14/2020 02:24:27 INFO 140493828642624] #progress_metric: host=algo-1, completed 100 % of epochs\u001b[0m\n",
      "\u001b[34m#metrics {\"Metrics\": {\"Max Batches Seen Between Resets\": {\"count\": 1, \"max\": 10, \"sum\": 10.0, \"min\": 10}, \"Number of Batches Since Last Reset\": {\"count\": 1, \"max\": 10, \"sum\": 10.0, \"min\": 10}, \"Number of Records Since Last Reset\": {\"count\": 1, \"max\": 317, \"sum\": 317.0, \"min\": 317}, \"Total Batches Seen\": {\"count\": 1, \"max\": 41, \"sum\": 41.0, \"min\": 41}, \"Total Records Seen\": {\"count\": 1, \"max\": 1300, \"sum\": 1300.0, \"min\": 1300}, \"Max Records Seen Between Resets\": {\"count\": 1, \"max\": 317, \"sum\": 317.0, \"min\": 317}, \"Reset Count\": {\"count\": 1, \"max\": 5, \"sum\": 5.0, \"min\": 5}}, \"EndTime\": 1597371867.30151, \"Dimensions\": {\"Host\": \"algo-1\", \"Meta\": \"training_data_iter\", \"Operation\": \"training\", \"Algorithm\": \"Linear Learner\", \"epoch\": 2}, \"StartTime\": 1597371867.272769}\n",
      "\u001b[0m\n",
      "\u001b[34m[08/14/2020 02:24:27 INFO 140493828642624] #throughput_metric: host=algo-1, train throughput=10978.7654451 records/second\u001b[0m\n",
      "\u001b[34m[08/14/2020 02:24:27 WARNING 140493828642624] wait_for_all_workers will not sync workers since the kv store is not running distributed\u001b[0m\n",
      "\u001b[34m[08/14/2020 02:24:27 WARNING 140493828642624] wait_for_all_workers will not sync workers since the kv store is not running distributed\u001b[0m\n",
      "\u001b[34m[2020-08-14 02:24:27.302] [tensorio] [info] epoch_stats={\"data_pipeline\": \"/opt/ml/input/data/train\", \"epoch\": 10, \"duration\": 0, \"num_examples\": 1, \"num_bytes\": 1920}\u001b[0m\n",
      "\u001b[34m[2020-08-14 02:24:27.316] [tensorio] [info] epoch_stats={\"data_pipeline\": \"/opt/ml/input/data/train\", \"epoch\": 12, \"duration\": 11, \"num_examples\": 10, \"num_bytes\": 19020}\u001b[0m\n",
      "\u001b[34m[08/14/2020 02:24:27 INFO 140493828642624] #train_score (algo-1) : ('absolute_loss_objective', 19940.922910094636)\u001b[0m\n",
      "\u001b[34m[08/14/2020 02:24:27 INFO 140493828642624] #train_score (algo-1) : ('mse', 715945845.0977918)\u001b[0m\n",
      "\u001b[34m[08/14/2020 02:24:27 INFO 140493828642624] #train_score (algo-1) : ('absolute_loss', 19940.922910094636)\u001b[0m\n",
      "\u001b[34m[08/14/2020 02:24:27 INFO 140493828642624] #quality_metric: host=algo-1, train absolute_loss_objective <loss>=19940.9229101\u001b[0m\n",
      "\u001b[34m[08/14/2020 02:24:27 INFO 140493828642624] #quality_metric: host=algo-1, train mse <loss>=715945845.098\u001b[0m\n",
      "\u001b[34m[08/14/2020 02:24:27 INFO 140493828642624] #quality_metric: host=algo-1, train absolute_loss <loss>=19940.9229101\u001b[0m\n",
      "\u001b[34m[08/14/2020 02:24:27 INFO 140493828642624] Best model found for hyperparameters: {\"lr_scheduler_step\": 10, \"wd\": 0.0001, \"optimizer\": \"adam\", \"lr_scheduler_factor\": 0.99, \"l1\": 0.0, \"learning_rate\": 0.005, \"lr_scheduler_minimum_lr\": 1e-05}\u001b[0m\n",
      "\u001b[34m[08/14/2020 02:24:27 INFO 140493828642624] Saved checkpoint to \"/tmp/tmpBK9Q17/mx-mod-0000.params\"\u001b[0m\n",
      "\u001b[34m[08/14/2020 02:24:27 INFO 140493828642624] Test data is not provided.\u001b[0m\n",
      "\u001b[34m#metrics {\"Metrics\": {\"totaltime\": {\"count\": 1, \"max\": 561.38014793396, \"sum\": 561.38014793396, \"min\": 561.38014793396}, \"finalize.time\": {\"count\": 1, \"max\": 15.114068984985352, \"sum\": 15.114068984985352, \"min\": 15.114068984985352}, \"initialize.time\": {\"count\": 1, \"max\": 109.82704162597656, \"sum\": 109.82704162597656, \"min\": 109.82704162597656}, \"check_early_stopping.time\": {\"count\": 3, \"max\": 1.0302066802978516, \"sum\": 2.9582977294921875, \"min\": 0.9601116180419922}, \"setuptime\": {\"count\": 1, \"max\": 25.532007217407227, \"sum\": 25.532007217407227, \"min\": 25.532007217407227}, \"update.time\": {\"count\": 3, \"max\": 52.21986770629883, \"sum\": 106.95481300354004, \"min\": 26.472091674804688}, \"epochs\": {\"count\": 1, \"max\": 3, \"sum\": 3.0, \"min\": 3}}, \"EndTime\": 1597371867.31964, \"Dimensions\": {\"Host\": \"algo-1\", \"Operation\": \"training\", \"Algorithm\": \"Linear Learner\"}, \"StartTime\": 1597371867.069898}\n",
      "\u001b[0m\n",
      "Training seconds: 45\n",
      "Billable seconds: 17\n",
      "Managed Spot Training savings: 62.2%\n"
     ]
    }
   ],
   "source": [
    "# Now that we have set up the model, let us pass training data from s3\n",
    "\n",
    "linear.fit({'train': s3_train_data})"
   ]
  },
  {
   "cell_type": "code",
   "execution_count": null,
   "metadata": {},
   "outputs": [],
   "source": [
    "# How can we reduce the cost of billable seconds???\n",
    "# Do the following:\n",
    "\n",
    "#linear = sagemaker.estimator.Estimator(container, \n",
    "                                    #  role,\n",
    "                                    #  train_instance_count=1,\n",
    "                                    #  train_instance_type='ml.c4.xlarge',\n",
    "                                    #  output_path=output_location,\n",
    "                                    #  sagemaker_session=sagemaker_session,\n",
    "                                    #  train_use_spot_instances=True, # use spot instances, unused ec2 instances available (not on demand -- so you might wait)\n",
    "                                    #  train_max_run=300, # time out in seconds for training\n",
    "                                    #  train_max_wait=600) # wait in seconds until spot instance is available, if time is up use on demand\n"
   ]
  },
  {
   "cell_type": "code",
   "execution_count": 36,
   "metadata": {},
   "outputs": [
    {
     "name": "stderr",
     "output_type": "stream",
     "text": [
      "WARNING:sagemaker:Parameter image will be renamed to image_uri in SageMaker Python SDK v2.\n"
     ]
    },
    {
     "name": "stdout",
     "output_type": "stream",
     "text": [
      "-----------------!"
     ]
    }
   ],
   "source": [
    "linear_regressor = linear.deploy(initial_instance_count=1,\n",
    "                                instance_type='ml.m4.xlarge')"
   ]
  },
  {
   "cell_type": "code",
   "execution_count": 39,
   "metadata": {},
   "outputs": [],
   "source": [
    "from sagemaker.predictor import csv_serializer, json_deserializer\n",
    "\n",
    "# content type overrides the data that will be passed to the deployed model, since the deployed model\n",
    "# expects in txt/csv format\n",
    "linear_regressor.content_type = 'text/csv'\n",
    "\n",
    "# Serializer accepts a single argument, the input data, and returns a sequence of bytes\n",
    "linear_regressor.serializer = csv_serializer\n",
    "\n",
    "# Deserializer accepts two arguments, the result data and the content type, and returns a sequence of bytes\n",
    "linear_regressor.deserializer = json_deserializer"
   ]
  },
  {
   "cell_type": "code",
   "execution_count": 40,
   "metadata": {},
   "outputs": [
    {
     "data": {
      "text/plain": [
       "{'predictions': [{'score': 114502.5625},\n",
       "  {'score': 116384.15625},\n",
       "  {'score': 90880.7578125},\n",
       "  {'score': 111008.15625},\n",
       "  {'score': 119072.15625},\n",
       "  {'score': 118265.7578125},\n",
       "  {'score': 116921.7578125},\n",
       "  {'score': 113696.15625},\n",
       "  {'score': 112083.359375},\n",
       "  {'score': 111814.5625},\n",
       "  {'score': 90074.359375},\n",
       "  {'score': 120953.7578125},\n",
       "  {'score': 100887.2265625},\n",
       "  {'score': 115577.7578125},\n",
       "  {'score': 101693.6328125},\n",
       "  {'score': 116921.7578125},\n",
       "  {'score': 116115.359375},\n",
       "  {'score': 90611.9609375},\n",
       "  {'score': 87832.609375},\n",
       "  {'score': 90611.9609375},\n",
       "  {'score': 115040.15625},\n",
       "  {'score': 113696.15625},\n",
       "  {'score': 87832.609375},\n",
       "  {'score': 110470.5625},\n",
       "  {'score': 113696.15625},\n",
       "  {'score': 112352.15625},\n",
       "  {'score': 115040.15625},\n",
       "  {'score': 98376.6875},\n",
       "  {'score': 112083.359375},\n",
       "  {'score': 119340.9609375},\n",
       "  {'score': 118534.5625},\n",
       "  {'score': 113964.9609375},\n",
       "  {'score': 106263.2265625},\n",
       "  {'score': 116921.7578125},\n",
       "  {'score': 111276.9609375},\n",
       "  {'score': 112889.7578125},\n",
       "  {'score': 111814.5625},\n",
       "  {'score': 90611.9609375},\n",
       "  {'score': 115040.15625},\n",
       "  {'score': 90880.7578125},\n",
       "  {'score': 113964.9609375},\n",
       "  {'score': 99005.6328125},\n",
       "  {'score': 110470.5625},\n",
       "  {'score': 101424.828125},\n",
       "  {'score': 119072.15625},\n",
       "  {'score': 118534.5625},\n",
       "  {'score': 111814.5625},\n",
       "  {'score': 109841.609375},\n",
       "  {'score': 120416.15625},\n",
       "  {'score': 113158.5625},\n",
       "  {'score': 101962.4296875},\n",
       "  {'score': 118803.359375},\n",
       "  {'score': 100080.828125},\n",
       "  {'score': 88370.2109375},\n",
       "  {'score': 111545.7578125},\n",
       "  {'score': 111908.03125},\n",
       "  {'score': 111008.15625},\n",
       "  {'score': 116921.7578125},\n",
       "  {'score': 103575.2265625},\n",
       "  {'score': 109035.2109375},\n",
       "  {'score': 113427.359375},\n",
       "  {'score': 112889.7578125},\n",
       "  {'score': 100887.2265625},\n",
       "  {'score': 117459.359375},\n",
       "  {'score': 114771.359375},\n",
       "  {'score': 90611.9609375},\n",
       "  {'score': 111276.9609375},\n",
       "  {'score': 100080.828125},\n",
       "  {'score': 113427.359375},\n",
       "  {'score': 100618.4296875},\n",
       "  {'score': 111008.15625},\n",
       "  {'score': 110110.4140625},\n",
       "  {'score': 119072.15625},\n",
       "  {'score': 87026.2109375},\n",
       "  {'score': 90343.15625},\n",
       "  {'score': 115040.15625},\n",
       "  {'score': 119072.15625},\n",
       "  {'score': 110739.359375},\n",
       "  {'score': 112889.7578125},\n",
       "  {'score': 110739.359375}]}"
      ]
     },
     "execution_count": 40,
     "metadata": {},
     "output_type": "execute_result"
    }
   ],
   "source": [
    "result = linear_regressor.predict(X_test)\n",
    "result # in json format"
   ]
  },
  {
   "cell_type": "code",
   "execution_count": 41,
   "metadata": {},
   "outputs": [
    {
     "data": {
      "text/plain": [
       "array([114502.5625   , 116384.15625  ,  90880.7578125, 111008.15625  ,\n",
       "       119072.15625  , 118265.7578125, 116921.7578125, 113696.15625  ,\n",
       "       112083.359375 , 111814.5625   ,  90074.359375 , 120953.7578125,\n",
       "       100887.2265625, 115577.7578125, 101693.6328125, 116921.7578125,\n",
       "       116115.359375 ,  90611.9609375,  87832.609375 ,  90611.9609375,\n",
       "       115040.15625  , 113696.15625  ,  87832.609375 , 110470.5625   ,\n",
       "       113696.15625  , 112352.15625  , 115040.15625  ,  98376.6875   ,\n",
       "       112083.359375 , 119340.9609375, 118534.5625   , 113964.9609375,\n",
       "       106263.2265625, 116921.7578125, 111276.9609375, 112889.7578125,\n",
       "       111814.5625   ,  90611.9609375, 115040.15625  ,  90880.7578125,\n",
       "       113964.9609375,  99005.6328125, 110470.5625   , 101424.828125 ,\n",
       "       119072.15625  , 118534.5625   , 111814.5625   , 109841.609375 ,\n",
       "       120416.15625  , 113158.5625   , 101962.4296875, 118803.359375 ,\n",
       "       100080.828125 ,  88370.2109375, 111545.7578125, 111908.03125  ,\n",
       "       111008.15625  , 116921.7578125, 103575.2265625, 109035.2109375,\n",
       "       113427.359375 , 112889.7578125, 100887.2265625, 117459.359375 ,\n",
       "       114771.359375 ,  90611.9609375, 111276.9609375, 100080.828125 ,\n",
       "       113427.359375 , 100618.4296875, 111008.15625  , 110110.4140625,\n",
       "       119072.15625  ,  87026.2109375,  90343.15625  , 115040.15625  ,\n",
       "       119072.15625  , 110739.359375 , 112889.7578125, 110739.359375 ])"
      ]
     },
     "execution_count": 41,
     "metadata": {},
     "output_type": "execute_result"
    }
   ],
   "source": [
    "predictions = np.array([r['score'] for r in result['predictions']])\n",
    "predictions"
   ]
  },
  {
   "cell_type": "code",
   "execution_count": 42,
   "metadata": {},
   "outputs": [
    {
     "data": {
      "text/plain": [
       "(80,)"
      ]
     },
     "execution_count": 42,
     "metadata": {},
     "output_type": "execute_result"
    }
   ],
   "source": [
    "predictions.shape"
   ]
  },
  {
   "cell_type": "code",
   "execution_count": 44,
   "metadata": {},
   "outputs": [
    {
     "data": {
      "text/plain": [
       "<matplotlib.axes._subplots.AxesSubplot at 0x7f827e968350>"
      ]
     },
     "execution_count": 44,
     "metadata": {},
     "output_type": "execute_result"
    },
    {
     "data": {
      "image/png": "[encoded data removed]",
      "text/plain": [
       "<Figure size 432x288 with 1 Axes>"
      ]
     },
     "metadata": {
      "needs_background": "light"
     },
     "output_type": "display_data"
    }
   ],
   "source": [
    "errors = y_test - predictions\n",
    "sns.distplot(errors)"
   ]
  },
  {
   "cell_type": "code",
   "execution_count": 45,
   "metadata": {},
   "outputs": [
    {
     "data": {
      "text/plain": [
       "24174.778649281543"
      ]
     },
     "execution_count": 45,
     "metadata": {},
     "output_type": "execute_result"
    }
   ],
   "source": [
    "np.sqrt(mean_squared_error(y_test, predictions))"
   ]
  },
  {
   "cell_type": "code",
   "execution_count": 48,
   "metadata": {},
   "outputs": [],
   "source": [
    "linear_regressor.delete_endpoint()"
   ]
  }
 ],
 "metadata": {
  "instance_type": "ml.t3.medium",
  "kernelspec": {
   "display_name": "Python 3 (Data Science)",
   "language": "python",
   "name": "python3__SAGEMAKER_INTERNAL__arn:aws:sagemaker:us-east-1:081325390199:image/datascience-1.0"
  },
  "language_info": {
   "codemirror_mode": {
    "name": "ipython",
    "version": 3
   },
   "file_extension": ".py",
   "mimetype": "text/x-python",
   "name": "python",
   "nbconvert_exporter": "python",
   "pygments_lexer": "ipython3",
   "version": "3.7.6"
  }
 },
 "nbformat": 4,
 "nbformat_minor": 4
}
